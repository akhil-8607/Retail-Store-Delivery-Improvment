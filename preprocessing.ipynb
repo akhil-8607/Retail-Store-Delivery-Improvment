{
  "nbformat": 4,
  "nbformat_minor": 0,
  "metadata": {
    "colab": {
      "name": "Final Report",
      "provenance": [],
      "collapsed_sections": []
    },
    "kernelspec": {
      "name": "python3",
      "display_name": "Python 3"
    }
  },
  "cells": [
    {
      "cell_type": "markdown",
      "metadata": {
        "id": "zhf1CBJHZpx5",
        "colab_type": "text"
      },
      "source": [
        "Question 1 - The original stores dataset only has the addresses of the stores. To find out the distance a driver travels while on a route, we would need to find the latitude and longitude of these stores. And follow this up by calculating the total distance covered after travelling to each of the stores on the route. The following code is used for this purpose - "
      ]
    },
    {
      "cell_type": "code",
      "metadata": {
        "id": "piexRJRzaEWO",
        "colab_type": "code",
        "colab": {}
      },
      "source": [
        "import numpy as np\n",
        "import pandas as pd\n",
        "import requests\n",
        "import xlwt\n",
        "from tempfile import TemporaryFile"
      ],
      "execution_count": 0,
      "outputs": []
    },
    {
      "cell_type": "code",
      "metadata": {
        "id": "PQ2FRhdgaGzy",
        "colab_type": "code",
        "colab": {}
      },
      "source": [
        "storedf = pd.read_csv(\"C:\\\\Users\\\\asus\\\\Desktop\\\\anycsvfilewithaddress.csv\")\n",
        "lat = []\n",
        "lng = []\n",
        "for i in range(len(storedf) - 1):\n",
        "    jrq = \"https://maps.googleapis.com/maps/api/geocode/json?address=\" + str(storedf[\"Address\"][i+1])+\"&key=API KEY\"\n",
        "    rsp = requests.get(jrq)\n",
        "    jsonpl = rsp.json()\n",
        "    if jsonpl['results'] == []:\n",
        "        latitude = 0.00\n",
        "        longitude = 0.00\n",
        "        lat.append(latitude)\n",
        "        lng.append(longitude)\n",
        "        continue\n",
        "    latitude = jsonpl['results'][0]['geometry']['location']['lat']\n",
        "    longitude = jsonpl['results'][0]['geometry']['location']['lng']\n",
        "    lat.append(latitude)\n",
        "    lng.append(longitude)"
      ],
      "execution_count": 0,
      "outputs": []
    },
    {
      "cell_type": "code",
      "metadata": {
        "id": "R6PKXqYzaRnJ",
        "colab_type": "code",
        "colab": {}
      },
      "source": [
        "wb = xlwt.Workbook()\n",
        "res = wb.add_sheet('res')\n",
        "for i,e in enumerate(lat):\n",
        "    res.write(i,1,e)\n",
        "\n",
        "for i,e in enumerate(lng):\n",
        "    res.write(i,2,e)\n",
        "\n",
        "name = \"destinationfile.xls\"\n",
        "wb.save(name)\n",
        "wb.save(TemporaryFile())"
      ],
      "execution_count": 0,
      "outputs": []
    },
    {
      "cell_type": "code",
      "metadata": {
        "id": "_-A4yXT8b7Je",
        "colab_type": "code",
        "colab": {}
      },
      "source": [
        "def reverselist(x):\n",
        "\tx = [i for i in reversed(x)]\n",
        "\treturn x\n",
        "\n",
        "delivery_df = pd.read_csv(\"The route data file\")\n",
        "sv_df = pd.read_csv(\"The store visit data file\")\n",
        "store_df = pd.read_csv(\"The store data file\")\n",
        "\n",
        "def gdist(x1,y1,x2,y2):\n",
        "\torg = (x1,y1)\n",
        "\tdes = (x2,y2)\n",
        " # API = \t#Put API key here\n",
        "  result = googlemaps.Client(key=API).distance_matrix(org, des, mode='driving')[\"rows\"][0][\"elements\"][0][\"distance\"][\"value\"]\n",
        "  return result\n",
        "\n",
        "ID = []\n",
        "for i in range(len(delivery_df)-1):\n",
        "\t# print(i)\n",
        "\tid = delivery_df[\"ID\"][i]\n",
        "\tID.append(int(id))\n",
        "\n",
        "finaldistance = []\n",
        "for i in ID:\n",
        "\tx = sv_df.index[sv_df['RID'] == str(i)].tolist()\n",
        "\t\n",
        "\tstores = []\n",
        "\tfor j in x:\n",
        "\t\tstores.append((sv_df.iloc[j]['Store ID']))\n",
        "\t\n",
        "\tdistance = []\n",
        "\tfor k in range(len(stores) - 1):\n",
        "\t\tx1 = store_df.iloc[int(store_df[store_df['Store ID']==stores[k]].index[0])]['Lat']\n",
        "\t\ty1 = store_df.iloc[int(store_df[store_df['Store ID']==stores[k]].index[0])]['Long']\n",
        "\t\tx2 = store_df.iloc[int(store_df[store_df['Store ID']==stores[k + 1]].index[0])]['Lat']\n",
        "\t\ty2 = store_df.iloc[int(store_df[store_df['Store ID']==stores[k + 1]].index[0])]['Long']\n",
        "\t\tdistance.append(gdist(x1,y1,x2,y2))\n",
        "\tfinaldistance.append(sum(distance))\n",
        "\n"
      ],
      "execution_count": 0,
      "outputs": []
    },
    {
      "cell_type": "code",
      "metadata": {
        "id": "96XUWwEqjrOC",
        "colab_type": "code",
        "colab": {}
      },
      "source": [
        "wb = xlwt.Workbook()\n",
        "res = wb.add_sheet('res')\n",
        "for i,e in enumerate(finaldistance):\n",
        "    res.write(i,1,e)\n",
        "\n",
        "name = \"destinationfile.xls\"\n",
        "wb.save(name)\n",
        "wb.save(TemporaryFile())"
      ],
      "execution_count": 0,
      "outputs": []
    },
    {
      "cell_type": "markdown",
      "metadata": {
        "id": "eKX-Niz1jtsw",
        "colab_type": "text"
      },
      "source": [
        "After this we would like to calculate an experience score for the loaders, assemblers and driver. The following code calculates the score - \n"
      ]
    },
    {
      "cell_type": "code",
      "metadata": {
        "id": "mfqfq_egj3-T",
        "colab_type": "code",
        "colab": {}
      },
      "source": [
        "def potential(x):\n",
        "\tpotential = (10*x)/70\n",
        "\treturn potential\n",
        "\n",
        "def increxp(x):\n",
        "\tx += 0.5\n",
        "\treturn x\n",
        "\n",
        "delivery_df = pd.read_csv(\"C:\\\\Users\\\\asus\\\\Desktop\\\\amltest\\\\route test.csv\")\n",
        "\n",
        "dexp = []\n",
        "lexp = []\n",
        "aexp = []\n",
        "for h in delivery_df['DRIVERID']:\n",
        "\ta = (delivery_df.DRIVERID == i).sum()\n",
        "\tlexp.append(a)\n",
        " \n",
        "for i in delivery_df['LOADERID']:\n",
        "\ta = (delivery_df.LOADERID == i).sum()\n",
        "\tlexp.append(a)\n",
        "\n",
        "for j in delivery_df['ASSEMBLERID']:\n",
        "\ta = (delivery_df.ASSEMBLERID == j).sum()\n",
        "\taexp.append(a)\n",
        "\n",
        "dexp = list(map(int, dexp))\n",
        "lexp = list(map(int, lexp))\n",
        "aexp = list(map(int, aexp))\n"
      ],
      "execution_count": 0,
      "outputs": []
    },
    {
      "cell_type": "code",
      "metadata": {
        "id": "DKKXOMr_k9TO",
        "colab_type": "code",
        "colab": {}
      },
      "source": [
        "wb = xlwt.Workbook()\n",
        "res = wb.add_sheet('res')\n",
        "for i,e in enumerate(dexp):\n",
        "    res.write(i,1,e)\n",
        "for i,e in enumerate(aexp):\n",
        "    res.write(i,2,e)\n",
        "for i,e in enumerate(lexp):\n",
        "    res.write(i,3,e)\n",
        "name = \"destinationfile.xls\"\n",
        "wb.save(name)\n",
        "wb.save(TemporaryFile())"
      ],
      "execution_count": 0,
      "outputs": []
    },
    {
      "cell_type": "markdown",
      "metadata": {
        "id": "kVCCcmp4lTDn",
        "colab_type": "text"
      },
      "source": [
        "The above code calculates the number of times a driver, loader or assembler has been on a trip. This data is added to the route data as DRIVEREXP, LOADEREXP and ASSEMBLEREXP. The following code gives a score based on their experience and potential "
      ]
    },
    {
      "cell_type": "code",
      "metadata": {
        "id": "SkgqtpJalnps",
        "colab_type": "code",
        "colab": {}
      },
      "source": [
        "checkexp = delivery_df['DRIVEREXP'].tolist()\n",
        "lexp = delivery_df['LOADEREXP'].tolist()\n",
        "aexp = delivery_df['ASSEMBLEREXP'].tolist()\n",
        "checkexp = list(map(int, checkexp))\n",
        "lexp = list(map(int, lexp))\n",
        "aexp = list(map(int, aexp))\n",
        "revcheckexp = reverselist(checkexp)\n",
        "revlexp = reverselist(lexp)\n",
        "revaexp = reverselist(aexp)\n",
        "driverexperience = {}\n",
        "loaderexperience = {}\n",
        "assemblerexperience = {}\n",
        "for i in range(len(lexp)):\n",
        "\tloaderexperience[lexp[i]] = potential(delivery_df['LOADEREXP'][i])\n",
        "\tassemblerexperience[aexp[i]] = potential(delivery_df['ASSEMBLEREXP'][i])\n",
        "\tdriverexperience[checkexp[i]] = potential(delivery_df['DRIVEREXP'][i])\n",
        "\n",
        "updateexp = []\n",
        "for i in revcheckexp:\n",
        "\tupdate = increxp(driverexperience[i])\n",
        "\tupdateexp.append(update)\n",
        "\tdriverexperience[i] = update\n",
        "\n",
        "updateexp = reverselist(updateexp)\n",
        "\n",
        "updatelexp = []\n",
        "for i in revlexp:\n",
        "\t# print(driverexperience[i])\n",
        "\tupdate = increxp(loaderexperience[i])\n",
        "\t# print(update)\n",
        "\tupdatelexp.append(update)\n",
        "\tloaderexperience[i] = update\n",
        "\n",
        "updatelexp = reverselist(updatelexp)\n",
        "\n",
        "updateaexp = []\n",
        "for i in revaexp:\n",
        "\tupdate = increxp(assemblerexperience[i])\n",
        "\tupdateaexp.append(update)\n",
        "\tassemblerexperience[i] = update\n",
        "\n",
        "updateaexp = reverselist(updateaexp)"
      ],
      "execution_count": 0,
      "outputs": []
    },
    {
      "cell_type": "code",
      "metadata": {
        "id": "f3g8Ns1-mIQB",
        "colab_type": "code",
        "colab": {}
      },
      "source": [
        "wb = xlwt.Workbook()\n",
        "res = wb.add_sheet('res')\n",
        "for i,e in enumerate(updateexp):\n",
        "    res.write(i,1,e)\n",
        "for i,e in enumerate(updateaexp):\n",
        "    res.write(i,2,e)\n",
        "for i,e in enumerate(updatelexp):\n",
        "    res.write(i,3,e)\n",
        "name = \"destinationfile.xls\"\n",
        "wb.save(name)\n",
        "wb.save(TemporaryFile())"
      ],
      "execution_count": 0,
      "outputs": []
    },
    {
      "cell_type": "markdown",
      "metadata": {
        "id": "Tml9v_UhmhFj",
        "colab_type": "text"
      },
      "source": [
        "We also need to find out at what time of the day did the route start. We used floor function in excel to round of the exact start time to the nearest hour. The following code puts this data into categories"
      ]
    },
    {
      "cell_type": "code",
      "metadata": {
        "id": "YQNEeN0Um-M9",
        "colab_type": "code",
        "colab": {}
      },
      "source": [
        "x = delivery_df[\"Floor\"].between(0,7).tolist()\n",
        "y = delivery_df[\"Floor\"].between(8,20).tolist()\n",
        "z = delivery_df[\"Floor\"].between(21,23).tolist()\n",
        "\n",
        "x1 = [1 if i == True else 0 for i in x]\n",
        "y1 = [1 if i == True else 0 for i in y]\n",
        "z1 = [1 if i == True else 0 for i in z]"
      ],
      "execution_count": 0,
      "outputs": []
    },
    {
      "cell_type": "code",
      "metadata": {
        "id": "LSEkWp7MnISF",
        "colab_type": "code",
        "colab": {}
      },
      "source": [
        "wb = xlwt.Workbook()\n",
        "res = wb.add_sheet('res')\n",
        "for i,e in enumerate(x1):\n",
        "    res.write(i,1,e)\n",
        "for i,e in enumerate(y1):\n",
        "    res.write(i,2,e)\n",
        "for i,e in enumerate(z1):\n",
        "    res.write(i,3,e)\n",
        "name = \"destinationfile.xls\"\n",
        "wb.save(name)\n",
        "wb.save(TemporaryFile())"
      ],
      "execution_count": 0,
      "outputs": []
    },
    {
      "cell_type": "markdown",
      "metadata": {
        "id": "bAytwe3Iw_ba",
        "colab_type": "text"
      },
      "source": [
        "Now we have to calculate the time that it took to complete the delivery. The time would be rounded off to the nearest hour and will be the target value of our dataset"
      ]
    },
    {
      "cell_type": "code",
      "metadata": {
        "id": "Cd-weAp1CHfe",
        "colab_type": "code",
        "colab": {}
      },
      "source": [
        "from datetime import datetime\n",
        "df['Time Taken'] = df['Actual End'] - df['Actual Start']"
      ],
      "execution_count": 0,
      "outputs": []
    },
    {
      "cell_type": "code",
      "metadata": {
        "id": "7ADU6gm7CIRU",
        "colab_type": "code",
        "colab": {}
      },
      "source": [
        "from datetime import datetime\n",
        "import math\n",
        "\n",
        "end = pd.to_datetime(df['Actual End'])\n",
        "start = pd.to_datetime(df['Actual Start'])\n",
        "\n",
        "diff = end - start\n",
        "diff_list = list(diff)\n",
        "a= []\n",
        "b= []\n",
        "for _ in range(len(diff_list)):\n",
        "    print(_)\n",
        "    temp = diff_list[_]\n",
        "    temp_in_s = temp.total_seconds()\n",
        "    minutes = divmod(temp_in_s, 60)[0]\n",
        "    a.append(minutes)\n",
        "    hour = minutes / 60\n",
        "    print(hour)\n",
        "    hours = math.ceil(hour)\n",
        "    b.append(hours)\n",
        "    \n",
        "    \n",
        "    \n",
        "    \n",
        "df['Time taken (in Minutes)'] = a  \n",
        "df['Time taken (in Hours)'] = b"
      ],
      "execution_count": 0,
      "outputs": []
    },
    {
      "cell_type": "code",
      "metadata": {
        "id": "Hhl0JrLtCLf_",
        "colab_type": "code",
        "colab": {}
      },
      "source": [
        "export_csv = df.to_csv (r'destination file', index = None, header=True)\n",
        "df = pd.read_csv(r'data file') \n",
        "\n",
        "df['column to convert']"
      ],
      "execution_count": 0,
      "outputs": []
    },
    {
      "cell_type": "code",
      "metadata": {
        "id": "4Ao9bMVLCN8J",
        "colab_type": "code",
        "colab": {}
      },
      "source": [
        "import math\n",
        "\n",
        "a= []\n",
        "for _ in range(len(m)):\n",
        "    \n",
        "\n",
        "    \n",
        "    hour = m[_] / 60\n",
        "\n",
        "    hours = math.ceil(hour)\n",
        "    print(hours)\n",
        "    a.append(hours)\n",
        "    newdf = pd.DataFrame(a) \n",
        "\n",
        "export_csv = newdf.to_csv (r'destination file', index = None, header=True)"
      ],
      "execution_count": 0,
      "outputs": []
    },
    {
      "cell_type": "markdown",
      "metadata": {
        "id": "orTzPWaAGGHA",
        "colab_type": "text"
      },
      "source": [
        "For question 2, we will be using the latitude and longitude of the stores and calculate the distance of the store from nearby warehouses. \n",
        "The code for carrying that out is - \n"
      ]
    },
    {
      "cell_type": "code",
      "metadata": {
        "id": "LmXpVGVcHyVJ",
        "colab_type": "code",
        "colab": {}
      },
      "source": [
        "regional_df = pd.read_csv(\"Store Data File\")\n",
        "dist = []\n",
        "for i in range(len(regional_df)):\n",
        "\tx1 = float(regional_df['Lat'][i])\n",
        "\ty1 = float(regional_df['Long'][i])\n",
        "\tx2 = #latitude of warehouse\n",
        "\ty2 = #longitude of warehouse\n",
        "\td = gdist(x1,y1,x2,y2)\n",
        "\tdist.append(d)\n",
        " "
      ],
      "execution_count": 0,
      "outputs": []
    },
    {
      "cell_type": "code",
      "metadata": {
        "id": "bQ2KDd9jIWQH",
        "colab_type": "code",
        "colab": {}
      },
      "source": [
        "wb = xlwt.Workbook()\n",
        "res = wb.add_sheet('res')\n",
        "for i,e in enumerate(dist):\n",
        "    res.write(i,1,e)\n",
        "name = \"destinationfile.xls\"\n",
        "wb.save(name)\n",
        "wb.save(TemporaryFile())"
      ],
      "execution_count": 0,
      "outputs": []
    },
    {
      "cell_type": "markdown",
      "metadata": {
        "id": "e3B3uKoyIsk-",
        "colab_type": "text"
      },
      "source": [
        "We will now calculate the number of stores within 200 km radius of a store associated with each warehouse."
      ]
    },
    {
      "cell_type": "code",
      "metadata": {
        "id": "7m2qOlqSNYqu",
        "colab_type": "code",
        "colab": {}
      },
      "source": [
        "ubranch = ['BRANCH1', 'BRANCH2', 'BRANCH3','BRANCH4','BRANCH5','BRANCH6','BRANCH7','BRANCH8','BRANCH9','BRANCH10']\n",
        "index= []\n",
        "for i in ubranch:\n",
        "    x = regional_df.index[regional_df['Territory'] == i].tolist()\n",
        "    index.append(x)\n",
        "\n",
        "COUNT = []\n",
        "for i in range(len(regional_df)):\n",
        "    branch_index = index[8]\n",
        "    x1 =  float(regional_df['Lat'][i])\n",
        "    y1 =  float(regional_df['Long'][i])\n",
        "    c = 0\n",
        "    for j in branch_index:\n",
        "        x2 = float(regional_df['Lat'][j])\n",
        "        y2 = float(regional_df['Long'][j])\n",
        "        distance_1 = gdist(x1,y1,x2,y2)\n",
        "        if distance_1 < 200:\n",
        "            c += 1\n",
        "        else:\n",
        "            continue\n",
        "    COUNT.append(c)"
      ],
      "execution_count": 0,
      "outputs": []
    },
    {
      "cell_type": "code",
      "metadata": {
        "id": "eyqdL7oCWEJh",
        "colab_type": "code",
        "colab": {}
      },
      "source": [
        "wb = xlwt.Workbook()\n",
        "res = wb.add_sheet('res')\n",
        "for i,e in enumerate(COUNT):\n",
        "    res.write(i,1,e)\n",
        "name = \"destinationfile.xls\"\n",
        "wb.save(name)\n",
        "wb.save(TemporaryFile())"
      ],
      "execution_count": 0,
      "outputs": []
    },
    {
      "cell_type": "markdown",
      "metadata": {
        "id": "SO5nnU0oQ1Bv",
        "colab_type": "text"
      },
      "source": [
        "Removing outliers from the dataset for question 1"
      ]
    },
    {
      "cell_type": "code",
      "metadata": {
        "id": "0vnhz1y9Q6sa",
        "colab_type": "code",
        "colab": {}
      },
      "source": [
        "delivery_df = pd.read_csv(\"Data file\")\n",
        "distance = delivery_df['Distance'].tolist()\n",
        "time = delivery_df['Time'].tolist()\n",
        "time = delivery_df['Time'].tolist()\n",
        "indices = []\n",
        "lost = []\n",
        "for i in range(len(distance)):\n",
        "\tif (25 < distance[i]/time[i] < 100):\n",
        "\t\tindices.append(i)\n",
        "\telse:\n",
        "\t\tlost.append(i)\n",
        "\n",
        "for j in lost:\n",
        "\tdelivery_df = delivery_df.drop([j], axis = 0)\t\n",
        "\n",
        "\n",
        "delivery_df.to_csv(r'Destination File')"
      ],
      "execution_count": 0,
      "outputs": []
    }
  ]
}